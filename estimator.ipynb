{
 "cells": [
  {
   "cell_type": "markdown",
   "metadata": {},
   "source": [
    "# Estimating the number of unseen species"
   ]
  },
  {
   "cell_type": "markdown",
   "metadata": {},
   "source": [
    "Based on arXiv:1511.07428.\n",
    "The Good-Toulmin estimator estimates the number of unseen species after a finite sampling of a population. The GT estimator is\n",
    "$$\n",
    "U^{GT}\\equiv U^{GT}(X^n,t)\\equiv - \\sum_{t=1}^{\\infty}(-t)^i\\Phi_i\n",
    "$$\n",
    "They showed, for $t\\leq 1$, that $U^{GT}$ is nearly unbiased and that the approximation is within an $\\sqrt{n}t$ error-bound. \n",
    "Efron and Thisted showed that a finite value for the estimator can be obtained for $t \\gt 1$ using \n",
    "$$\n",
    "U^{ET}\\equiv \\sum_{i=1}^{n}h_i^{ET}\\Phi_i,\n",
    "$$\n",
    "where\n",
    "$$\n",
    "h_i^{ET}\\equiv -(-t)^i \\mathbb{P} (Bin(k,\\frac{1}{1+t})\\geq i),\n",
    "$$\n",
    "and whenever $i \\leq k$\n",
    "$$\n",
    "\\mathbb{P}\\left( Bin\\left(k,\\frac{1}{1+t}\\right) \\geq i \\right)=\n",
    "\\sum_{j=i}^{k}{{k}\\choose{j}} \\frac{t^{k-j}}{(1+t)^k}\n",
    "$$\n",
    "or 0 otherwise ($i \\gt k$).\n",
    "\n",
    "So far there was no provable guarantee for its performance and no indication on how to best choose k. arXiv:1511.07428 fills these gaps.\n",
    "\n",
    "A smoothed GT estimator is derived which predict U optimally for any $t \\propto \\log n$, and it applies to different models. The new estimator is given by \n",
    "$$\n",
    "U^L=\\mathbb{E}_L\\left[ -\\sum_{i=1}^{L} (-t)^i \\Phi_i \\right]=\n",
    "-\\sum_{i \\geq 1} (-t)^i \\mathbb{P} (L \\geq i) \\Phi_i,\n",
    "$$\n",
    "where $L$ is sampled at random. $U^{ET}$ corresponds to the binomial probability for the smoothing distribution $\\mathbb P$.\n",
    "\n",
    "The statistical models that are considered in the paper are: \n",
    "* Multinomial: i.i.d samples\n",
    "* Hypergeometric: sampling without replacement variant of multinomial\n",
    "* Poisoon: as in multinomial but with sample size Poisson distributed\n",
    "* Bernoulli-product: ?\n",
    "\n",
    "Of interest to us is the hypergeometric model.\n",
    "See also *support size estimation*, *missing mass estimation* and *Goog-Turing* problems."
   ]
  },
  {
   "cell_type": "markdown",
   "metadata": {},
   "source": [
    "## Generating the histogram of histogram (or prevalence list)"
   ]
  },
  {
   "cell_type": "code",
   "execution_count": 36,
   "metadata": {
    "collapsed": false
   },
   "outputs": [
    {
     "data": {
      "image/png": "[encoded data removed]",
      "text/plain": [
       "<matplotlib.figure.Figure at 0x7f2e4b357050>"
      ]
     },
     "metadata": {},
     "output_type": "display_data"
    },
    {
     "name": "stdout",
     "output_type": "stream",
     "text": [
      "n:  10000000\n"
     ]
    }
   ],
   "source": [
    "import numpy as np\n",
    "from scipy.stats import hypergeom\n",
    "import matplotlib.pyplot as plt\n",
    "\n",
    "numb_uniqueSymbols = 100000 #number of unique symbols\n",
    "maxVal = 1000000 #maximum allowed number of unique symbols\n",
    "\n",
    "'''\n",
    "sample uniformely at random the number of occurences of each unique symbol.\n",
    "The array histo represent the real population distribution\n",
    "'''\n",
    "histo = np.random.random_integers(maxVal, size=(numb_uniqueSymbols,))\n",
    "\n",
    "'''\n",
    "R: the number of symbols\n",
    "r_x: number of occurrences of symbol x\n",
    "n: number of samples\n",
    "counts: represents the sampled population distribution, assuming an hypergeometric model\n",
    "'''\n",
    "R = sum(histo)\n",
    "n = 10000000\n",
    "counts = []\n",
    "for r_x in histo:\n",
    "    counts.append(np.random.hypergeometric(r_x, R-r_x, n))\n",
    "\n",
    "from collections import Counter\n",
    "species = Counter(counts).keys()# equals to list(set(counts))\n",
    "occurrences = Counter(counts).values()# counts the elements' frequency\n",
    "\n",
    "'''\n",
    "Phi: array, whose i-th location counts how many species have been seen i times\n",
    "'''\n",
    "[Phi, edges, patches] = plt.hist(occurrences, bins=len(set(occurrences)))\n",
    "# print Phi\n",
    "plt.show() # this is the histogram of histogram for my simulated experiment\n",
    "print 'n: ', n"
   ]
  },
  {
   "cell_type": "code",
   "execution_count": 37,
   "metadata": {
    "collapsed": false
   },
   "outputs": [
    {
     "data": {
      "image/png": "[encoded data removed]",
      "text/plain": [
       "<matplotlib.figure.Figure at 0x7f2e47e91cd0>"
      ]
     },
     "metadata": {},
     "output_type": "display_data"
    }
   ],
   "source": [
    "from module import *\n",
    "module = reload(module)\n",
    "\n",
    "'''\n",
    "R: the number of symbols\n",
    "r_x: number of occurrences of symbol x\n",
    "n: number of samples\n",
    "counts: represents the sampled population distribution, assuming an hypergeometric model\n",
    "Phi: array, whose i-th location counts how many species have been seen i times\n",
    "t: fold-change from the initial sampling of size n (at most log n)\n",
    "sd_samples: numer of times to sample the smoothing distro\n",
    "'''\n",
    "\n",
    "y = []\n",
    "x = []\n",
    "\n",
    "x.append(1)\n",
    "y.append(sum(Phi))\n",
    "\n",
    "for t in np.arange(1.1,7.1,.2):\n",
    "    x.append(t)\n",
    "    value = smoothedGT(Phi,n,t,sd_samples=100000) # evaluate the expected new number of molecule types\n",
    "    y.append(value)\n",
    "\n",
    "plt.figure(1)\n",
    "plt.plot(x,y)\n",
    "plt.show()"
   ]
  },
  {
   "cell_type": "code",
   "execution_count": 38,
   "metadata": {
    "collapsed": false
   },
   "outputs": [
    {
     "name": "stdout",
     "output_type": "stream",
     "text": [
      "21819.7158552\n"
     ]
    }
   ],
   "source": [
    "print np.sqrt(n)*t"
   ]
  }
 ],
 "metadata": {
  "anaconda-cloud": {},
  "kernelspec": {
   "display_name": "Python [default]",
   "language": "python",
   "name": "python2"
  },
  "language_info": {
   "codemirror_mode": {
    "name": "ipython",
    "version": 2
   },
   "file_extension": ".py",
   "mimetype": "text/x-python",
   "name": "python",
   "nbconvert_exporter": "python",
   "pygments_lexer": "ipython2",
   "version": "2.7.12"
  }
 },
 "nbformat": 4,
 "nbformat_minor": 0
}
